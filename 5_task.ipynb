{
  "nbformat": 4,
  "nbformat_minor": 5,
  "metadata": {
    "kernelspec": {
      "display_name": "Python 3",
      "language": "python",
      "name": "python3"
    },
    "language_info": {
      "codemirror_mode": {
        "name": "ipython",
        "version": 3
      },
      "file_extension": ".py",
      "mimetype": "text/x-python",
      "name": "python",
      "nbconvert_exporter": "python",
      "pygments_lexer": "ipython3",
      "version": "3.9.7"
    },
    "colab": {
      "name": "5_task.ipynb",
      "provenance": []
    }
  },
  "cells": [
    {
      "cell_type": "markdown",
      "metadata": {
        "id": "85755de8"
      },
      "source": [
        "# Самостоятельное задание #5\n",
        "\n",
        "\n",
        "### Задание 1\n",
        "\n",
        "Допишите функцию, которая принимает список, выбирает из него все элементы с четным индексом и возвращает их в виде списка."
      ],
      "id": "85755de8"
    },
    {
      "cell_type": "code",
      "metadata": {
        "id": "6ef6d9b3",
        "colab": {
          "base_uri": "https://localhost:8080/"
        },
        "outputId": "8cabf4b0-2b6b-460e-e0c2-24039d3fe03c"
      },
      "source": [
        "a=input().split()\n",
        "print(a[::2])\n",
        "\n"
      ],
      "id": "6ef6d9b3",
      "execution_count": 50,
      "outputs": [
        {
          "output_type": "stream",
          "name": "stdout",
          "text": [
            "5 7 9 8 4 6 2\n",
            "['5', '9', '4', '2']\n"
          ]
        }
      ]
    },
    {
      "cell_type": "markdown",
      "metadata": {
        "id": "443974c9"
      },
      "source": [
        "### Задание 2\n",
        "\n",
        "Допишите функцию, которая принимает список, выбирает из него все элементы, которые больше предыдущего и возвращает их в виде списка.\n"
      ],
      "id": "443974c9"
    },
    {
      "cell_type": "code",
      "metadata": {
        "id": "3a8cf925",
        "colab": {
          "base_uri": "https://localhost:8080/"
        },
        "outputId": "c304891c-8f49-4b4b-e63e-d4f48a442a9a"
      },
      "source": [
        "a=input().split()\n",
        "n=len(a)\n",
        "for i in range(0,n):\n",
        "  if a[i] > a[i-1]:\n",
        "    print(a[i], end=' ')"
      ],
      "id": "3a8cf925",
      "execution_count": 3,
      "outputs": [
        {
          "output_type": "stream",
          "name": "stdout",
          "text": [
            "5 4 8 9 2 4 9 3\n",
            "5 8 9 4 9 "
          ]
        }
      ]
    },
    {
      "cell_type": "markdown",
      "metadata": {
        "id": "34524ede"
      },
      "source": [
        "### Задание 3\n",
        "\n",
        "Допишите функцию, которая принимает список, меняет местами наибольший и наименьший элементы и возвращает этот список."
      ],
      "id": "34524ede"
    },
    {
      "cell_type": "code",
      "metadata": {
        "id": "34d2beae",
        "colab": {
          "base_uri": "https://localhost:8080/"
        },
        "outputId": "0cb995b6-9f09-4b4b-ebbd-368eb9834a24"
      },
      "source": [
        "a = input().split()\n",
        "n=len(a)\n",
        "i_min=0\n",
        "i_max = 0\n",
        "for i in range(1, n):\n",
        "    if a[i] > a[i_max]:\n",
        "        i_max = i\n",
        "    if a[i] < a[i_min]:\n",
        "        i_min = i\n",
        "a[i_min], a[i_max] = a[i_max], a[i_min]\n",
        "print(' '.join([str(i) for i in a]))"
      ],
      "id": "34d2beae",
      "execution_count": 8,
      "outputs": [
        {
          "output_type": "stream",
          "name": "stdout",
          "text": [
            "5 7 9\n",
            "9 7 5\n"
          ]
        }
      ]
    }
  ]
}