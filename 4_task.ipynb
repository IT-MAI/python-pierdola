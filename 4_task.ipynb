{
  "nbformat": 4,
  "nbformat_minor": 5,
  "metadata": {
    "kernelspec": {
      "display_name": "Python 3",
      "language": "python",
      "name": "python3"
    },
    "language_info": {
      "codemirror_mode": {
        "name": "ipython",
        "version": 3
      },
      "file_extension": ".py",
      "mimetype": "text/x-python",
      "name": "python",
      "nbconvert_exporter": "python",
      "pygments_lexer": "ipython3",
      "version": "3.9.7"
    },
    "colab": {
      "name": "4_task.ipynb",
      "provenance": []
    }
  },
  "cells": [
    {
      "cell_type": "markdown",
      "metadata": {
        "id": "515e798f"
      },
      "source": [
        "# Самостоятельное задание #4\n",
        "\n",
        "\n",
        "Дана строка: Lambdadambda\n",
        "    \n",
        "**Вывести третий символ этой строки.**"
      ],
      "id": "515e798f"
    },
    {
      "cell_type": "code",
      "metadata": {
        "id": "6fb0097c"
      },
      "source": [
        "row = \"Lambdadambda\""
      ],
      "id": "6fb0097c",
      "execution_count": 32,
      "outputs": []
    },
    {
      "cell_type": "code",
      "metadata": {
        "colab": {
          "base_uri": "https://localhost:8080/"
        },
        "id": "7e563ce5",
        "outputId": "2ed2ce70-6156-42af-9f29-5c2797d71647"
      },
      "source": [
        "print(row[2])"
      ],
      "id": "7e563ce5",
      "execution_count": 4,
      "outputs": [
        {
          "output_type": "stream",
          "name": "stdout",
          "text": [
            "m\n"
          ]
        }
      ]
    },
    {
      "cell_type": "markdown",
      "metadata": {
        "id": "ea010c5d"
      },
      "source": [
        "**Вывести предпоследний символ этой строки.**"
      ],
      "id": "ea010c5d"
    },
    {
      "cell_type": "code",
      "metadata": {
        "colab": {
          "base_uri": "https://localhost:8080/"
        },
        "id": "31b0d3ed",
        "outputId": "e2bead13-0256-46a2-ef84-071691ea69de"
      },
      "source": [
        "print(row[10])"
      ],
      "id": "31b0d3ed",
      "execution_count": 6,
      "outputs": [
        {
          "output_type": "stream",
          "name": "stdout",
          "text": [
            "d\n"
          ]
        }
      ]
    },
    {
      "cell_type": "markdown",
      "metadata": {
        "id": "e4e84e54"
      },
      "source": [
        "**Вывести первые пять символов этой строки.**"
      ],
      "id": "e4e84e54"
    },
    {
      "cell_type": "code",
      "metadata": {
        "colab": {
          "base_uri": "https://localhost:8080/"
        },
        "id": "7e311943",
        "outputId": "90bda84d-ceb9-45d6-cef9-795aa6e7b974"
      },
      "source": [
        "print(row[:5])"
      ],
      "id": "7e311943",
      "execution_count": 14,
      "outputs": [
        {
          "output_type": "stream",
          "name": "stdout",
          "text": [
            "Lambd\n"
          ]
        }
      ]
    },
    {
      "cell_type": "markdown",
      "metadata": {
        "id": "f6a3ba9c"
      },
      "source": [
        "**Вывести строку, кроме последних двух символов.**"
      ],
      "id": "f6a3ba9c"
    },
    {
      "cell_type": "code",
      "metadata": {
        "colab": {
          "base_uri": "https://localhost:8080/"
        },
        "id": "e73c0b48",
        "outputId": "d666ca08-e704-4546-9a8e-e6b097d5b771"
      },
      "source": [
        "print(row[:10])"
      ],
      "id": "e73c0b48",
      "execution_count": 19,
      "outputs": [
        {
          "output_type": "stream",
          "name": "stdout",
          "text": [
            "Lambdadamb\n"
          ]
        }
      ]
    },
    {
      "cell_type": "markdown",
      "metadata": {
        "id": "0a4dfd22"
      },
      "source": [
        "**Вывести все символы с четными индексами (считайте, что 0 - четный индекс).**"
      ],
      "id": "0a4dfd22"
    },
    {
      "cell_type": "code",
      "metadata": {
        "colab": {
          "base_uri": "https://localhost:8080/"
        },
        "id": "c2562333",
        "outputId": "c8647148-6de5-497d-eea6-7088091da9f3"
      },
      "source": [
        "n=len(row)\n",
        "for i in range(0,n-1,2):\n",
        "  print(row[i], end='')\n"
      ],
      "id": "c2562333",
      "execution_count": 36,
      "outputs": [
        {
          "output_type": "stream",
          "name": "stdout",
          "text": [
            "Lmddmd"
          ]
        }
      ]
    },
    {
      "cell_type": "markdown",
      "metadata": {
        "id": "d692f8e4"
      },
      "source": [
        "**Вывести все символы с нечетными индексами.**"
      ],
      "id": "d692f8e4"
    },
    {
      "cell_type": "code",
      "metadata": {
        "colab": {
          "base_uri": "https://localhost:8080/"
        },
        "id": "4ee4c0c7",
        "outputId": "93a981c4-c253-4f13-b18a-4b3b47daa340"
      },
      "source": [
        "n=len(row)\n",
        "for i in range(1,n-1,2):\n",
        " print(row[i], end='')"
      ],
      "id": "4ee4c0c7",
      "execution_count": 76,
      "outputs": [
        {
          "output_type": "stream",
          "name": "stdout",
          "text": [
            "abaab"
          ]
        }
      ]
    },
    {
      "cell_type": "markdown",
      "metadata": {
        "id": "dc19a22d"
      },
      "source": [
        "**Вывести все символы в обратном порядке.**"
      ],
      "id": "dc19a22d"
    },
    {
      "cell_type": "code",
      "metadata": {
        "colab": {
          "base_uri": "https://localhost:8080/"
        },
        "id": "b791ac60",
        "outputId": "38bb91bb-8e4d-45e9-d11a-6bdd7c70282c"
      },
      "source": [
        "for i in reversed(row):\n",
        "  print(i, end='')\n"
      ],
      "id": "b791ac60",
      "execution_count": 87,
      "outputs": [
        {
          "output_type": "stream",
          "name": "stdout",
          "text": [
            "adbmadadbmaL"
          ]
        }
      ]
    },
    {
      "cell_type": "code",
      "metadata": {
        "id": "7O6StAYMLsb3"
      },
      "source": [
        ""
      ],
      "id": "7O6StAYMLsb3",
      "execution_count": null,
      "outputs": []
    },
    {
      "cell_type": "markdown",
      "metadata": {
        "id": "ddcab1ad"
      },
      "source": [
        "**Вывести все символы строки через один в обратном порядке, начиная с последнего.**"
      ],
      "id": "ddcab1ad"
    },
    {
      "cell_type": "code",
      "metadata": {
        "colab": {
          "base_uri": "https://localhost:8080/"
        },
        "id": "29f2787d",
        "outputId": "a1bd942e-015f-481c-9c7f-c89ce2b8ccc6"
      },
      "source": [
        "print(row[::-2])"
      ],
      "id": "29f2787d",
      "execution_count": 86,
      "outputs": [
        {
          "output_type": "stream",
          "name": "stdout",
          "text": [
            "abaaba\n"
          ]
        }
      ]
    },
    {
      "cell_type": "markdown",
      "metadata": {
        "id": "1c732041"
      },
      "source": [
        "**Вывести длину данной строки.**"
      ],
      "id": "1c732041"
    },
    {
      "cell_type": "code",
      "metadata": {
        "colab": {
          "base_uri": "https://localhost:8080/"
        },
        "id": "fd2fb86c",
        "outputId": "08d3c32d-460f-45d5-8ca6-584eb431a2f8"
      },
      "source": [
        "print(len(row))"
      ],
      "id": "fd2fb86c",
      "execution_count": 44,
      "outputs": [
        {
          "output_type": "stream",
          "name": "stdout",
          "text": [
            "12\n"
          ]
        }
      ]
    }
  ]
}