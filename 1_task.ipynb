{
  "nbformat": 4,
  "nbformat_minor": 5,
  "metadata": {
    "kernelspec": {
      "display_name": "Python 3",
      "language": "python",
      "name": "python3"
    },
    "language_info": {
      "codemirror_mode": {
        "name": "ipython",
        "version": 3
      },
      "file_extension": ".py",
      "mimetype": "text/x-python",
      "name": "python",
      "nbconvert_exporter": "python",
      "pygments_lexer": "ipython3",
      "version": "3.9.6"
    },
    "colab": {
      "name": "1_task.ipynb",
      "provenance": []
    }
  },
  "cells": [
    {
      "cell_type": "markdown",
      "metadata": {
        "id": "caec52ff"
      },
      "source": [
        "# Самостоятельное задание\n",
        "\n",
        "Мы предлагаем вам потренироваться c логическими и побитовыми операторами."
      ],
      "id": "caec52ff"
    },
    {
      "cell_type": "code",
      "metadata": {
        "id": "7fe7e97e"
      },
      "source": [
        "a = True\n",
        "\n",
        "b = False"
      ],
      "id": "7fe7e97e",
      "execution_count": 1,
      "outputs": []
    },
    {
      "cell_type": "markdown",
      "metadata": {
        "id": "06c53579"
      },
      "source": [
        "**Решите:**\n",
        "\n",
        "1. a and b\n",
        "\n",
        "2. (a and b) or b\n",
        "\n",
        "3. (a and b) or not (a and b)\n",
        "\n",
        "4. a and b or not (a or b) or b\n",
        "\n",
        "5. b and b or not a and (a or b or a) or not (a or b)\n",
        "\n",
        "6. 1 << 2\n",
        "\n",
        "7. 1 & 0 | 1 >> 1\n",
        "\n",
        "8. 1 & 0 | 1 >> 0\n",
        "\n",
        "9. 0b101 & 0b111 ^ 0b111 | 0b010  Комментарий: \"0b101\" - запись числа \"5\" на языке Python в двоичном виде "
      ],
      "id": "06c53579"
    },
    {
      "cell_type": "code",
      "metadata": {
        "colab": {
          "base_uri": "https://localhost:8080/"
        },
        "id": "HcV6JTWu0R9H",
        "outputId": "33eaac35-5ce4-41c8-ca62-531938603924"
      },
      "source": [
        "0b101 & 0b111 ^ 0b111"
      ],
      "id": "HcV6JTWu0R9H",
      "execution_count": 10,
      "outputs": [
        {
          "output_type": "execute_result",
          "data": {
            "text/plain": [
              "2"
            ]
          },
          "metadata": {},
          "execution_count": 10
        }
      ]
    },
    {
      "cell_type": "code",
      "metadata": {
        "colab": {
          "base_uri": "https://localhost:8080/"
        },
        "id": "q5dh9H550N9t",
        "outputId": "f7838cbc-1156-4e2e-947c-228db02e6f3a"
      },
      "source": [
        "1 & 0 | 1 >> 0"
      ],
      "id": "q5dh9H550N9t",
      "execution_count": 9,
      "outputs": [
        {
          "output_type": "execute_result",
          "data": {
            "text/plain": [
              "1"
            ]
          },
          "metadata": {},
          "execution_count": 9
        }
      ]
    },
    {
      "cell_type": "code",
      "metadata": {
        "colab": {
          "base_uri": "https://localhost:8080/"
        },
        "id": "_bPUVqNP0LQT",
        "outputId": "bdf9babf-cc59-4de0-b1ae-a510a2d4b3c6"
      },
      "source": [
        "1 & 0 | 1 >> 1"
      ],
      "id": "_bPUVqNP0LQT",
      "execution_count": 8,
      "outputs": [
        {
          "output_type": "execute_result",
          "data": {
            "text/plain": [
              "0"
            ]
          },
          "metadata": {},
          "execution_count": 8
        }
      ]
    },
    {
      "cell_type": "code",
      "metadata": {
        "colab": {
          "base_uri": "https://localhost:8080/"
        },
        "id": "1-eBEFeNz_ro",
        "outputId": "6216e1f2-6d6e-4e7d-c128-df561c6b1202"
      },
      "source": [
        "a and b or not (a or b) or b"
      ],
      "id": "1-eBEFeNz_ro",
      "execution_count": 5,
      "outputs": [
        {
          "output_type": "execute_result",
          "data": {
            "text/plain": [
              "False"
            ]
          },
          "metadata": {},
          "execution_count": 5
        }
      ]
    },
    {
      "cell_type": "code",
      "metadata": {
        "colab": {
          "base_uri": "https://localhost:8080/"
        },
        "id": "OAloww3N0C3x",
        "outputId": "15a382c7-1cd9-479d-e6ed-35edb50f4dc1"
      },
      "source": [
        "b and b or not a and (a or b or a) or not (a or b)"
      ],
      "id": "OAloww3N0C3x",
      "execution_count": 6,
      "outputs": [
        {
          "output_type": "execute_result",
          "data": {
            "text/plain": [
              "False"
            ]
          },
          "metadata": {},
          "execution_count": 6
        }
      ]
    },
    {
      "cell_type": "code",
      "metadata": {
        "colab": {
          "base_uri": "https://localhost:8080/"
        },
        "id": "Rr-9INpu0Ht9",
        "outputId": "8256bdb2-d4f7-430e-eab2-2c5b819e4a78"
      },
      "source": [
        "1 << 2"
      ],
      "id": "Rr-9INpu0Ht9",
      "execution_count": 7,
      "outputs": [
        {
          "output_type": "execute_result",
          "data": {
            "text/plain": [
              "4"
            ]
          },
          "metadata": {},
          "execution_count": 7
        }
      ]
    },
    {
      "cell_type": "code",
      "metadata": {
        "colab": {
          "base_uri": "https://localhost:8080/"
        },
        "id": "sLIA4KlTzwGv",
        "outputId": "d1822644-28d4-450f-f269-d67587d8ce94"
      },
      "source": [
        "a and b"
      ],
      "id": "sLIA4KlTzwGv",
      "execution_count": 2,
      "outputs": [
        {
          "output_type": "execute_result",
          "data": {
            "text/plain": [
              "False"
            ]
          },
          "metadata": {},
          "execution_count": 2
        }
      ]
    },
    {
      "cell_type": "code",
      "metadata": {
        "colab": {
          "base_uri": "https://localhost:8080/"
        },
        "id": "yM2TLLsUz0Tr",
        "outputId": "ce5770af-cfcd-4d98-840b-c3d37ecde74b"
      },
      "source": [
        "(a and b) or b"
      ],
      "id": "yM2TLLsUz0Tr",
      "execution_count": 3,
      "outputs": [
        {
          "output_type": "execute_result",
          "data": {
            "text/plain": [
              "False"
            ]
          },
          "metadata": {},
          "execution_count": 3
        }
      ]
    },
    {
      "cell_type": "code",
      "metadata": {
        "colab": {
          "base_uri": "https://localhost:8080/"
        },
        "id": "RTz_MFa5z4at",
        "outputId": "5dd03615-b0aa-4201-a1ad-38aedac28b45"
      },
      "source": [
        "(a and b) or not (a and b)"
      ],
      "id": "RTz_MFa5z4at",
      "execution_count": 4,
      "outputs": [
        {
          "output_type": "execute_result",
          "data": {
            "text/plain": [
              "True"
            ]
          },
          "metadata": {},
          "execution_count": 4
        }
      ]
    }
  ]
}