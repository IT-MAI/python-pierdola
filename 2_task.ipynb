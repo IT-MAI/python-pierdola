{
  "nbformat": 4,
  "nbformat_minor": 5,
  "metadata": {
    "kernelspec": {
      "display_name": "Python 3",
      "language": "python",
      "name": "python3"
    },
    "language_info": {
      "codemirror_mode": {
        "name": "ipython",
        "version": 3
      },
      "file_extension": ".py",
      "mimetype": "text/x-python",
      "name": "python",
      "nbconvert_exporter": "python",
      "pygments_lexer": "ipython3",
      "version": "3.9.6"
    },
    "colab": {
      "name": "2_task.ipynb",
      "provenance": []
    }
  },
  "cells": [
    {
      "cell_type": "markdown",
      "metadata": {
        "id": "246424fe"
      },
      "source": [
        "# Самостоятельная работа #2\n",
        "### Задание 1\n",
        "\n",
        "Допишите функцию, которая принимает 2 числа, сравнивает между собой и возвращает наименьшее."
      ],
      "id": "246424fe"
    },
    {
      "cell_type": "code",
      "metadata": {
        "colab": {
          "base_uri": "https://localhost:8080/"
        },
        "id": "1b225d18",
        "outputId": "44c22121-0d69-4f91-f458-e6a7b931e39b"
      },
      "source": [
        "num1 = input('Число 1')\n",
        "num2 = input('Число 2')\n",
        "if num1 > num2:\n",
        "  print(num2)\n",
        "elif num2 > num1:\n",
        "    print(num1)"
      ],
      "id": "1b225d18",
      "execution_count": 6,
      "outputs": [
        {
          "output_type": "stream",
          "name": "stdout",
          "text": [
            "Число 18\n",
            "Число 29\n",
            "8\n"
          ]
        }
      ]
    },
    {
      "cell_type": "markdown",
      "metadata": {
        "id": "9342d85f"
      },
      "source": [
        "### Задание 2\n",
        "\n",
        "Допишите функцию, которая принимает 3 числа, сравнивает между собой и возвращает наименьшее."
      ],
      "id": "9342d85f"
    },
    {
      "cell_type": "code",
      "metadata": {
        "colab": {
          "base_uri": "https://localhost:8080/"
        },
        "id": "5371aa95",
        "outputId": "06c9b462-7a6b-42ab-88d2-e5e6344226b0"
      },
      "source": [
        "num1 = input('Число 1')\n",
        "num2 = input('Число 2')\n",
        "num3 = input('Число 3')\n",
        "if num1>num2>num3:\n",
        "  print(num3)\n",
        "elif num1>num3>num2:\n",
        "  print(num2)\n",
        "elif num3>num2>num1:\n",
        "  print(num1)\n",
        "elif num2>num1>num3:\n",
        "  print(num3)\n",
        "elif num2>num3>num1:\n",
        "  print(num1)\n",
        "elif num3>num1>num2:\n",
        "  print(num2)"
      ],
      "id": "5371aa95",
      "execution_count": 14,
      "outputs": [
        {
          "output_type": "stream",
          "name": "stdout",
          "text": [
            "Число 19\n",
            "Число 21\n",
            "Число 34\n",
            "1\n"
          ]
        }
      ]
    },
    {
      "cell_type": "markdown",
      "metadata": {
        "id": "9ef85dfd"
      },
      "source": [
        "### Задание 2\n",
        "\n",
        "Допишите функцию, которая принимает 3 числа, сравнивает между собой и возвращает количество совпадающих чисел. Соответственно, программа может возвращать одно из трех чисел: 3 - если совпадают все, 2 - если совпадают 2 числа, 0 - если все числа различны."
      ],
      "id": "9ef85dfd"
    },
    {
      "cell_type": "code",
      "metadata": {
        "colab": {
          "base_uri": "https://localhost:8080/"
        },
        "id": "ec6a169c",
        "outputId": "82088730-201c-4695-cf14-d361f7ac9d63"
      },
      "source": [
        "num1 = input('Число 1')\n",
        "num2 = input('Число 2')\n",
        "num3 = input('Число 3')\n",
        "if num1==num2==num3:\n",
        "  print(3)\n",
        "elif num1==num2 or num1==num3 or num2==num3:\n",
        "  print(2)\n",
        "elif num1!=num2!=num3:\n",
        "  print(0)"
      ],
      "id": "ec6a169c",
      "execution_count": 19,
      "outputs": [
        {
          "output_type": "stream",
          "name": "stdout",
          "text": [
            "Число 15\n",
            "Число 25\n",
            "Число 35\n",
            "3\n"
          ]
        }
      ]
    }
  ]
}